{
 "cells": [
  {
   "cell_type": "code",
   "execution_count": 58,
   "id": "b2194b0c",
   "metadata": {},
   "outputs": [],
   "source": [
    "import numpy as np\n",
    "import pandas as pd\n",
    "import cv2\n",
    "import matplotlib.pyplot as plt\n",
    "\n",
    "import random\n",
    "\n",
    "from sklearn.preprocessing import LabelBinarizer\n",
    "from sklearn.model_selection import train_test_split\n",
    "import imutils\n",
    "import tensorflow as tf\n",
    "from keras.models import Sequential, load_model\n",
    "from keras import layers\n",
    "from tensorflow.keras.layers import Dense, Flatten, Dropout\n",
    "from keras.callbacks import EarlyStopping, ModelCheckpoint, ReduceLROnPlateau\n",
    "from keras.src.utils import np_utils\n",
    "from tensorflow.keras.optimizers import Adam\n"
   ]
  },
  {
   "cell_type": "code",
   "execution_count": 40,
   "id": "34ff757c",
   "metadata": {},
   "outputs": [],
   "source": [
    "#Reading using pandas\n",
    "train_df = pd.read_csv('./dataset/EMNIST/emnist-balanced-train.csv', header=None)\n",
    "test_df = pd.read_csv('./dataset/EMNIST/emnist-balanced-test.csv', header=None)\n"
   ]
  },
  {
   "cell_type": "code",
   "execution_count": 176,
   "id": "a2a2a443",
   "metadata": {},
   "outputs": [
    {
     "data": {
      "text/html": [
       "<div>\n",
       "<style scoped>\n",
       "    .dataframe tbody tr th:only-of-type {\n",
       "        vertical-align: middle;\n",
       "    }\n",
       "\n",
       "    .dataframe tbody tr th {\n",
       "        vertical-align: top;\n",
       "    }\n",
       "\n",
       "    .dataframe thead th {\n",
       "        text-align: right;\n",
       "    }\n",
       "</style>\n",
       "<table border=\"1\" class=\"dataframe\">\n",
       "  <thead>\n",
       "    <tr style=\"text-align: right;\">\n",
       "      <th></th>\n",
       "      <th>0</th>\n",
       "      <th>1</th>\n",
       "      <th>2</th>\n",
       "      <th>3</th>\n",
       "      <th>4</th>\n",
       "      <th>5</th>\n",
       "      <th>6</th>\n",
       "      <th>7</th>\n",
       "      <th>8</th>\n",
       "      <th>9</th>\n",
       "      <th>...</th>\n",
       "      <th>775</th>\n",
       "      <th>776</th>\n",
       "      <th>777</th>\n",
       "      <th>778</th>\n",
       "      <th>779</th>\n",
       "      <th>780</th>\n",
       "      <th>781</th>\n",
       "      <th>782</th>\n",
       "      <th>783</th>\n",
       "      <th>784</th>\n",
       "    </tr>\n",
       "  </thead>\n",
       "  <tbody>\n",
       "    <tr>\n",
       "      <th>0</th>\n",
       "      <td>45</td>\n",
       "      <td>0</td>\n",
       "      <td>0</td>\n",
       "      <td>0</td>\n",
       "      <td>0</td>\n",
       "      <td>0</td>\n",
       "      <td>0</td>\n",
       "      <td>0</td>\n",
       "      <td>0</td>\n",
       "      <td>0</td>\n",
       "      <td>...</td>\n",
       "      <td>0</td>\n",
       "      <td>0</td>\n",
       "      <td>0</td>\n",
       "      <td>0</td>\n",
       "      <td>0</td>\n",
       "      <td>0</td>\n",
       "      <td>0</td>\n",
       "      <td>0</td>\n",
       "      <td>0</td>\n",
       "      <td>0</td>\n",
       "    </tr>\n",
       "    <tr>\n",
       "      <th>1</th>\n",
       "      <td>36</td>\n",
       "      <td>0</td>\n",
       "      <td>0</td>\n",
       "      <td>0</td>\n",
       "      <td>0</td>\n",
       "      <td>0</td>\n",
       "      <td>0</td>\n",
       "      <td>0</td>\n",
       "      <td>0</td>\n",
       "      <td>0</td>\n",
       "      <td>...</td>\n",
       "      <td>0</td>\n",
       "      <td>0</td>\n",
       "      <td>0</td>\n",
       "      <td>0</td>\n",
       "      <td>0</td>\n",
       "      <td>0</td>\n",
       "      <td>0</td>\n",
       "      <td>0</td>\n",
       "      <td>0</td>\n",
       "      <td>0</td>\n",
       "    </tr>\n",
       "    <tr>\n",
       "      <th>2</th>\n",
       "      <td>43</td>\n",
       "      <td>0</td>\n",
       "      <td>0</td>\n",
       "      <td>0</td>\n",
       "      <td>0</td>\n",
       "      <td>0</td>\n",
       "      <td>0</td>\n",
       "      <td>0</td>\n",
       "      <td>0</td>\n",
       "      <td>0</td>\n",
       "      <td>...</td>\n",
       "      <td>0</td>\n",
       "      <td>0</td>\n",
       "      <td>0</td>\n",
       "      <td>0</td>\n",
       "      <td>0</td>\n",
       "      <td>0</td>\n",
       "      <td>0</td>\n",
       "      <td>0</td>\n",
       "      <td>0</td>\n",
       "      <td>0</td>\n",
       "    </tr>\n",
       "    <tr>\n",
       "      <th>3</th>\n",
       "      <td>15</td>\n",
       "      <td>0</td>\n",
       "      <td>0</td>\n",
       "      <td>0</td>\n",
       "      <td>0</td>\n",
       "      <td>0</td>\n",
       "      <td>0</td>\n",
       "      <td>0</td>\n",
       "      <td>0</td>\n",
       "      <td>0</td>\n",
       "      <td>...</td>\n",
       "      <td>0</td>\n",
       "      <td>0</td>\n",
       "      <td>0</td>\n",
       "      <td>0</td>\n",
       "      <td>0</td>\n",
       "      <td>0</td>\n",
       "      <td>0</td>\n",
       "      <td>0</td>\n",
       "      <td>0</td>\n",
       "      <td>0</td>\n",
       "    </tr>\n",
       "    <tr>\n",
       "      <th>4</th>\n",
       "      <td>4</td>\n",
       "      <td>0</td>\n",
       "      <td>0</td>\n",
       "      <td>0</td>\n",
       "      <td>0</td>\n",
       "      <td>0</td>\n",
       "      <td>0</td>\n",
       "      <td>0</td>\n",
       "      <td>0</td>\n",
       "      <td>0</td>\n",
       "      <td>...</td>\n",
       "      <td>0</td>\n",
       "      <td>0</td>\n",
       "      <td>0</td>\n",
       "      <td>0</td>\n",
       "      <td>0</td>\n",
       "      <td>0</td>\n",
       "      <td>0</td>\n",
       "      <td>0</td>\n",
       "      <td>0</td>\n",
       "      <td>0</td>\n",
       "    </tr>\n",
       "  </tbody>\n",
       "</table>\n",
       "<p>5 rows × 785 columns</p>\n",
       "</div>"
      ],
      "text/plain": [
       "   0    1    2    3    4    5    6    7    8    9    ...  775  776  777  778  \\\n",
       "0   45    0    0    0    0    0    0    0    0    0  ...    0    0    0    0   \n",
       "1   36    0    0    0    0    0    0    0    0    0  ...    0    0    0    0   \n",
       "2   43    0    0    0    0    0    0    0    0    0  ...    0    0    0    0   \n",
       "3   15    0    0    0    0    0    0    0    0    0  ...    0    0    0    0   \n",
       "4    4    0    0    0    0    0    0    0    0    0  ...    0    0    0    0   \n",
       "\n",
       "   779  780  781  782  783  784  \n",
       "0    0    0    0    0    0    0  \n",
       "1    0    0    0    0    0    0  \n",
       "2    0    0    0    0    0    0  \n",
       "3    0    0    0    0    0    0  \n",
       "4    0    0    0    0    0    0  \n",
       "\n",
       "[5 rows x 785 columns]"
      ]
     },
     "execution_count": 176,
     "metadata": {},
     "output_type": "execute_result"
    }
   ],
   "source": [
    "# Add test dataset into train dataset\n",
    "# print(train_df)\n",
    "df = pd.concat([train_df, test_df], ignore_index=True)\n",
    "df.head()\n",
    "# Clear memory\n",
    "# del train_df\n",
    "# del test_df"
   ]
  },
  {
   "cell_type": "code",
   "execution_count": 177,
   "id": "f5e169d2",
   "metadata": {},
   "outputs": [
    {
     "data": {
      "text/plain": [
       "{10: 'A',\n",
       " 11: 'B',\n",
       " 12: 'C',\n",
       " 13: 'D',\n",
       " 14: 'E',\n",
       " 15: 'F',\n",
       " 16: 'G',\n",
       " 17: 'H',\n",
       " 18: 'I',\n",
       " 19: 'J',\n",
       " 20: 'K',\n",
       " 21: 'L',\n",
       " 22: 'M',\n",
       " 23: 'N',\n",
       " 24: 'O',\n",
       " 25: 'P',\n",
       " 26: 'Q',\n",
       " 27: 'R',\n",
       " 28: 'S',\n",
       " 29: 'T',\n",
       " 30: 'U',\n",
       " 31: 'V',\n",
       " 32: 'W',\n",
       " 33: 'X',\n",
       " 34: 'Y',\n",
       " 35: 'Z'}"
      ]
     },
     "execution_count": 177,
     "metadata": {},
     "output_type": "execute_result"
    }
   ],
   "source": [
    "# Reading the file\n",
    "label_map = pd.read_csv(\"./dataset/EMNIST/emnist-balanced-mapping.txt\",\n",
    "                        delimiter=' ',\n",
    "                        index_col=0,\n",
    "                        header=None)\n",
    "label_map = label_map.iloc[:, 0]\n",
    "\n",
    "# Initializing an empty dictionary\n",
    "label_dictionary = {}\n",
    "\n",
    "# Running a loop for ASCII equivalent to character conversion\n",
    "for index, label in enumerate(label_map):\n",
    "    char_value = chr(label)\n",
    "    if 'A' <= char_value <= 'Z':\n",
    "        label_dictionary[index] = char_value\n",
    "\n",
    "label_dictionary"
   ]
  },
  {
   "cell_type": "code",
   "execution_count": 178,
   "id": "3df47420",
   "metadata": {},
   "outputs": [
    {
     "data": {
      "text/plain": [
       "(131600, 785)"
      ]
     },
     "execution_count": 178,
     "metadata": {},
     "output_type": "execute_result"
    }
   ],
   "source": [
    "df.shape\n"
   ]
  },
  {
   "cell_type": "code",
   "execution_count": 179,
   "id": "710d5ac8",
   "metadata": {},
   "outputs": [],
   "source": [
    "# Assuming df is your DataFrame\n",
    "df[0] = pd.to_numeric(df[0], errors='coerce')  # Convert to numeric, coerce errors to NaN\n",
    "\n",
    "# Filter the DataFrame to include only rows where the label is an uppercase letter\n",
    "df_filtered = df[df[0].between(10, 35, inclusive='both')]\n",
    "\n",
    "# Check the shape of the filtered DataFrame\n",
    "df = df_filtered\n",
    "del df_filtered"
   ]
  },
  {
   "cell_type": "code",
   "execution_count": 180,
   "id": "f646dba1",
   "metadata": {},
   "outputs": [
    {
     "data": {
      "text/html": [
       "<div>\n",
       "<style scoped>\n",
       "    .dataframe tbody tr th:only-of-type {\n",
       "        vertical-align: middle;\n",
       "    }\n",
       "\n",
       "    .dataframe tbody tr th {\n",
       "        vertical-align: top;\n",
       "    }\n",
       "\n",
       "    .dataframe thead th {\n",
       "        text-align: right;\n",
       "    }\n",
       "</style>\n",
       "<table border=\"1\" class=\"dataframe\">\n",
       "  <thead>\n",
       "    <tr style=\"text-align: right;\">\n",
       "      <th></th>\n",
       "      <th>0</th>\n",
       "      <th>1</th>\n",
       "      <th>2</th>\n",
       "      <th>3</th>\n",
       "      <th>4</th>\n",
       "      <th>5</th>\n",
       "      <th>6</th>\n",
       "      <th>7</th>\n",
       "      <th>8</th>\n",
       "      <th>9</th>\n",
       "      <th>...</th>\n",
       "      <th>775</th>\n",
       "      <th>776</th>\n",
       "      <th>777</th>\n",
       "      <th>778</th>\n",
       "      <th>779</th>\n",
       "      <th>780</th>\n",
       "      <th>781</th>\n",
       "      <th>782</th>\n",
       "      <th>783</th>\n",
       "      <th>784</th>\n",
       "    </tr>\n",
       "  </thead>\n",
       "  <tbody>\n",
       "    <tr>\n",
       "      <th>count</th>\n",
       "      <td>72800.000000</td>\n",
       "      <td>72800.0</td>\n",
       "      <td>72800.0</td>\n",
       "      <td>72800.0</td>\n",
       "      <td>72800.0</td>\n",
       "      <td>72800.000000</td>\n",
       "      <td>72800.000000</td>\n",
       "      <td>72800.000000</td>\n",
       "      <td>72800.000000</td>\n",
       "      <td>72800.000000</td>\n",
       "      <td>...</td>\n",
       "      <td>72800.000000</td>\n",
       "      <td>72800.0</td>\n",
       "      <td>72800.0</td>\n",
       "      <td>72800.000000</td>\n",
       "      <td>72800.00000</td>\n",
       "      <td>72800.0</td>\n",
       "      <td>72800.0</td>\n",
       "      <td>72800.0</td>\n",
       "      <td>72800.0</td>\n",
       "      <td>72800.0</td>\n",
       "    </tr>\n",
       "    <tr>\n",
       "      <th>mean</th>\n",
       "      <td>22.500000</td>\n",
       "      <td>0.0</td>\n",
       "      <td>0.0</td>\n",
       "      <td>0.0</td>\n",
       "      <td>0.0</td>\n",
       "      <td>0.003681</td>\n",
       "      <td>0.022788</td>\n",
       "      <td>0.033475</td>\n",
       "      <td>0.028970</td>\n",
       "      <td>0.028695</td>\n",
       "      <td>...</td>\n",
       "      <td>0.000481</td>\n",
       "      <td>0.0</td>\n",
       "      <td>0.0</td>\n",
       "      <td>0.003352</td>\n",
       "      <td>0.00044</td>\n",
       "      <td>0.0</td>\n",
       "      <td>0.0</td>\n",
       "      <td>0.0</td>\n",
       "      <td>0.0</td>\n",
       "      <td>0.0</td>\n",
       "    </tr>\n",
       "    <tr>\n",
       "      <th>std</th>\n",
       "      <td>7.500052</td>\n",
       "      <td>0.0</td>\n",
       "      <td>0.0</td>\n",
       "      <td>0.0</td>\n",
       "      <td>0.0</td>\n",
       "      <td>0.397263</td>\n",
       "      <td>1.763957</td>\n",
       "      <td>2.095212</td>\n",
       "      <td>2.042071</td>\n",
       "      <td>2.181729</td>\n",
       "      <td>...</td>\n",
       "      <td>0.129719</td>\n",
       "      <td>0.0</td>\n",
       "      <td>0.0</td>\n",
       "      <td>0.904324</td>\n",
       "      <td>0.11860</td>\n",
       "      <td>0.0</td>\n",
       "      <td>0.0</td>\n",
       "      <td>0.0</td>\n",
       "      <td>0.0</td>\n",
       "      <td>0.0</td>\n",
       "    </tr>\n",
       "    <tr>\n",
       "      <th>min</th>\n",
       "      <td>10.000000</td>\n",
       "      <td>0.0</td>\n",
       "      <td>0.0</td>\n",
       "      <td>0.0</td>\n",
       "      <td>0.0</td>\n",
       "      <td>0.000000</td>\n",
       "      <td>0.000000</td>\n",
       "      <td>0.000000</td>\n",
       "      <td>0.000000</td>\n",
       "      <td>0.000000</td>\n",
       "      <td>...</td>\n",
       "      <td>0.000000</td>\n",
       "      <td>0.0</td>\n",
       "      <td>0.0</td>\n",
       "      <td>0.000000</td>\n",
       "      <td>0.00000</td>\n",
       "      <td>0.0</td>\n",
       "      <td>0.0</td>\n",
       "      <td>0.0</td>\n",
       "      <td>0.0</td>\n",
       "      <td>0.0</td>\n",
       "    </tr>\n",
       "    <tr>\n",
       "      <th>25%</th>\n",
       "      <td>16.000000</td>\n",
       "      <td>0.0</td>\n",
       "      <td>0.0</td>\n",
       "      <td>0.0</td>\n",
       "      <td>0.0</td>\n",
       "      <td>0.000000</td>\n",
       "      <td>0.000000</td>\n",
       "      <td>0.000000</td>\n",
       "      <td>0.000000</td>\n",
       "      <td>0.000000</td>\n",
       "      <td>...</td>\n",
       "      <td>0.000000</td>\n",
       "      <td>0.0</td>\n",
       "      <td>0.0</td>\n",
       "      <td>0.000000</td>\n",
       "      <td>0.00000</td>\n",
       "      <td>0.0</td>\n",
       "      <td>0.0</td>\n",
       "      <td>0.0</td>\n",
       "      <td>0.0</td>\n",
       "      <td>0.0</td>\n",
       "    </tr>\n",
       "    <tr>\n",
       "      <th>50%</th>\n",
       "      <td>22.500000</td>\n",
       "      <td>0.0</td>\n",
       "      <td>0.0</td>\n",
       "      <td>0.0</td>\n",
       "      <td>0.0</td>\n",
       "      <td>0.000000</td>\n",
       "      <td>0.000000</td>\n",
       "      <td>0.000000</td>\n",
       "      <td>0.000000</td>\n",
       "      <td>0.000000</td>\n",
       "      <td>...</td>\n",
       "      <td>0.000000</td>\n",
       "      <td>0.0</td>\n",
       "      <td>0.0</td>\n",
       "      <td>0.000000</td>\n",
       "      <td>0.00000</td>\n",
       "      <td>0.0</td>\n",
       "      <td>0.0</td>\n",
       "      <td>0.0</td>\n",
       "      <td>0.0</td>\n",
       "      <td>0.0</td>\n",
       "    </tr>\n",
       "    <tr>\n",
       "      <th>75%</th>\n",
       "      <td>29.000000</td>\n",
       "      <td>0.0</td>\n",
       "      <td>0.0</td>\n",
       "      <td>0.0</td>\n",
       "      <td>0.0</td>\n",
       "      <td>0.000000</td>\n",
       "      <td>0.000000</td>\n",
       "      <td>0.000000</td>\n",
       "      <td>0.000000</td>\n",
       "      <td>0.000000</td>\n",
       "      <td>...</td>\n",
       "      <td>0.000000</td>\n",
       "      <td>0.0</td>\n",
       "      <td>0.0</td>\n",
       "      <td>0.000000</td>\n",
       "      <td>0.00000</td>\n",
       "      <td>0.0</td>\n",
       "      <td>0.0</td>\n",
       "      <td>0.0</td>\n",
       "      <td>0.0</td>\n",
       "      <td>0.0</td>\n",
       "    </tr>\n",
       "    <tr>\n",
       "      <th>max</th>\n",
       "      <td>35.000000</td>\n",
       "      <td>0.0</td>\n",
       "      <td>0.0</td>\n",
       "      <td>0.0</td>\n",
       "      <td>0.0</td>\n",
       "      <td>63.000000</td>\n",
       "      <td>213.000000</td>\n",
       "      <td>217.000000</td>\n",
       "      <td>217.000000</td>\n",
       "      <td>217.000000</td>\n",
       "      <td>...</td>\n",
       "      <td>35.000000</td>\n",
       "      <td>0.0</td>\n",
       "      <td>0.0</td>\n",
       "      <td>244.000000</td>\n",
       "      <td>32.00000</td>\n",
       "      <td>0.0</td>\n",
       "      <td>0.0</td>\n",
       "      <td>0.0</td>\n",
       "      <td>0.0</td>\n",
       "      <td>0.0</td>\n",
       "    </tr>\n",
       "  </tbody>\n",
       "</table>\n",
       "<p>8 rows × 785 columns</p>\n",
       "</div>"
      ],
      "text/plain": [
       "                0        1        2        3        4             5    \\\n",
       "count  72800.000000  72800.0  72800.0  72800.0  72800.0  72800.000000   \n",
       "mean      22.500000      0.0      0.0      0.0      0.0      0.003681   \n",
       "std        7.500052      0.0      0.0      0.0      0.0      0.397263   \n",
       "min       10.000000      0.0      0.0      0.0      0.0      0.000000   \n",
       "25%       16.000000      0.0      0.0      0.0      0.0      0.000000   \n",
       "50%       22.500000      0.0      0.0      0.0      0.0      0.000000   \n",
       "75%       29.000000      0.0      0.0      0.0      0.0      0.000000   \n",
       "max       35.000000      0.0      0.0      0.0      0.0     63.000000   \n",
       "\n",
       "                6             7             8             9    ...  \\\n",
       "count  72800.000000  72800.000000  72800.000000  72800.000000  ...   \n",
       "mean       0.022788      0.033475      0.028970      0.028695  ...   \n",
       "std        1.763957      2.095212      2.042071      2.181729  ...   \n",
       "min        0.000000      0.000000      0.000000      0.000000  ...   \n",
       "25%        0.000000      0.000000      0.000000      0.000000  ...   \n",
       "50%        0.000000      0.000000      0.000000      0.000000  ...   \n",
       "75%        0.000000      0.000000      0.000000      0.000000  ...   \n",
       "max      213.000000    217.000000    217.000000    217.000000  ...   \n",
       "\n",
       "                775      776      777           778          779      780  \\\n",
       "count  72800.000000  72800.0  72800.0  72800.000000  72800.00000  72800.0   \n",
       "mean       0.000481      0.0      0.0      0.003352      0.00044      0.0   \n",
       "std        0.129719      0.0      0.0      0.904324      0.11860      0.0   \n",
       "min        0.000000      0.0      0.0      0.000000      0.00000      0.0   \n",
       "25%        0.000000      0.0      0.0      0.000000      0.00000      0.0   \n",
       "50%        0.000000      0.0      0.0      0.000000      0.00000      0.0   \n",
       "75%        0.000000      0.0      0.0      0.000000      0.00000      0.0   \n",
       "max       35.000000      0.0      0.0    244.000000     32.00000      0.0   \n",
       "\n",
       "           781      782      783      784  \n",
       "count  72800.0  72800.0  72800.0  72800.0  \n",
       "mean       0.0      0.0      0.0      0.0  \n",
       "std        0.0      0.0      0.0      0.0  \n",
       "min        0.0      0.0      0.0      0.0  \n",
       "25%        0.0      0.0      0.0      0.0  \n",
       "50%        0.0      0.0      0.0      0.0  \n",
       "75%        0.0      0.0      0.0      0.0  \n",
       "max        0.0      0.0      0.0      0.0  \n",
       "\n",
       "[8 rows x 785 columns]"
      ]
     },
     "execution_count": 180,
     "metadata": {},
     "output_type": "execute_result"
    }
   ],
   "source": [
    "df.describe()\n"
   ]
  },
  {
   "cell_type": "markdown",
   "id": "823bd03a",
   "metadata": {},
   "source": [
    "### Preprocessing data\n"
   ]
  },
  {
   "cell_type": "code",
   "execution_count": 181,
   "id": "28feaaa0",
   "metadata": {},
   "outputs": [
    {
     "name": "stdout",
     "output_type": "stream",
     "text": [
      "Any missing value? 0\n",
      "Any duplicates? 0\n",
      "Any values outside the range of 0 and 255? 0\n"
     ]
    }
   ],
   "source": [
    "# Is there any missing values\n",
    "df.dropna(inplace=True)\n",
    "num_missing_values = df.isnull().sum().sum()\n",
    "\n",
    "# Remove duplicates if any\n",
    "df.drop_duplicates(inplace=True)\n",
    "num_duplicates = df.duplicated().sum()\n",
    "\n",
    "# Make sure the grayscale values to be between 0 and 255\n",
    "df = np.clip(df, 0, 255)\n",
    "num_values_outside_range = ((df < 0) | (df > 255)).sum().sum()\n",
    "\n",
    "# Check if we have any null values or duplicated rows or values outside (0, 255) range.\n",
    "print(f\"Any missing value? {num_missing_values}\")\n",
    "print(f\"Any duplicates? {num_duplicates}\")\n",
    "print(f\"Any values outside the range of 0 and 255? {num_values_outside_range}\")"
   ]
  },
  {
   "cell_type": "code",
   "execution_count": 182,
   "id": "e5e8cdb1",
   "metadata": {},
   "outputs": [
    {
     "data": {
      "text/plain": [
       "((72798, 784), (72798,))"
      ]
     },
     "execution_count": 182,
     "metadata": {},
     "output_type": "execute_result"
    }
   ],
   "source": [
    "# We split our dataframe into feature matrix (X) and target vector (y)\n",
    "X = df.loc[:, 1:]\n",
    "y = df.loc[:, 0]\n",
    "\n",
    "X.shape, y.shape\n",
    "\n",
    "# del df"
   ]
  },
  {
   "cell_type": "code",
   "execution_count": 183,
   "id": "065cb8b8",
   "metadata": {},
   "outputs": [],
   "source": [
    "#Data Scaling to bring the input values between 0 to 1\n",
    "X = X.astype('float32') / 255\n",
    "\n",
    "# Convert target variable to integer labels\n",
    "y = y.astype(int)\n"
   ]
  },
  {
   "cell_type": "code",
   "execution_count": 184,
   "id": "aad07f63",
   "metadata": {},
   "outputs": [
    {
     "data": {
      "text/plain": [
       "((784,), 34)"
      ]
     },
     "execution_count": 184,
     "metadata": {},
     "output_type": "execute_result"
    }
   ],
   "source": [
    "# Sample entry number 263\n",
    "sample_image = X.iloc[42]\n",
    "sample_label = y.iloc[42]\n",
    "sample_image.shape, sample_label"
   ]
  },
  {
   "cell_type": "code",
   "execution_count": 185,
   "id": "30b223f2",
   "metadata": {},
   "outputs": [
    {
     "name": "stdout",
     "output_type": "stream",
     "text": [
      "Label entry No. 42: Y\n"
     ]
    },
    {
     "data": {
      "image/png": "[encoded data removed]",
      "text/plain": [
       "<Figure size 640x480 with 1 Axes>"
      ]
     },
     "metadata": {},
     "output_type": "display_data"
    }
   ],
   "source": [
    "print(\"Label entry No. 42:\", label_dictionary[sample_label])\n",
    "plt.imshow(sample_image.values.reshape(28, 28), cmap=plt.cm.gray)\n",
    "plt.show()"
   ]
  },
  {
   "cell_type": "code",
   "execution_count": 186,
   "id": "666f2b4c",
   "metadata": {},
   "outputs": [],
   "source": [
    "def flip_and_rotate(image):\n",
    "    W = 28\n",
    "    H = 28\n",
    "    image = image.reshape(28, 28)\n",
    "    image = np.fliplr(image)\n",
    "    image = np.rot90(image)\n",
    "    return image"
   ]
  },
  {
   "cell_type": "code",
   "execution_count": 187,
   "id": "f71d30d1",
   "metadata": {},
   "outputs": [
    {
     "name": "stdout",
     "output_type": "stream",
     "text": [
      "Label entry 42: Y\n"
     ]
    },
    {
     "data": {
      "image/png": "[encoded data removed]",
      "text/plain": [
       "<Figure size 640x480 with 1 Axes>"
      ]
     },
     "metadata": {},
     "output_type": "display_data"
    }
   ],
   "source": [
    "print(\"Label entry 42:\", label_dictionary[sample_label])\n",
    "plt.imshow(flip_and_rotate(sample_image.values), cmap=plt.cm.gray)\n",
    "plt.show()"
   ]
  },
  {
   "cell_type": "code",
   "execution_count": 188,
   "id": "0152d92a",
   "metadata": {},
   "outputs": [
    {
     "data": {
      "text/plain": [
       "(72798, 28, 28)"
      ]
     },
     "execution_count": 188,
     "metadata": {},
     "output_type": "execute_result"
    }
   ],
   "source": [
    "# Next we want to apply reshape_and_rotate to all images in X_train\n",
    "X = np.asarray(X)\n",
    "X = np.apply_along_axis(flip_and_rotate, 1, X)\n",
    "X.shape\n"
   ]
  },
  {
   "cell_type": "code",
   "execution_count": 202,
   "id": "7b89d337",
   "metadata": {},
   "outputs": [
    {
     "data": {
      "image/png": "[encoded data removed]",
      "text/plain": [
       "<Figure size 960x480 with 4 Axes>"
      ]
     },
     "metadata": {},
     "output_type": "display_data"
    }
   ],
   "source": [
    "plt.figure(figsize=(12, 6), dpi=80)  # Adjust the figure size to accommodate two rows\n",
    "for i in range(12, 16):  # Update the range to select 10 samples\n",
    "    plt.subplot(2, 5, i-11)  # Use 2 rows and 5 columns for displaying the samples\n",
    "    plt.imshow(X[i], cmap=plt.cm.gray)\n",
    "    plt.title(label_dictionary[y[i]])\n",
    "plt.tight_layout()  # Adjust the spacing between subplots\n",
    "plt.show()"
   ]
  },
  {
   "cell_type": "code",
   "execution_count": 205,
   "id": "17e12b2c",
   "metadata": {},
   "outputs": [
    {
     "name": "stdout",
     "output_type": "stream",
     "text": [
      "[10 11 12 13 14 15 16 17 18 19 20 21 22 23 24 25 26 27 28 29 30 31 32 33\n",
      " 34 35]\n"
     ]
    },
    {
     "data": {
      "text/plain": [
       "26"
      ]
     },
     "execution_count": 205,
     "metadata": {},
     "output_type": "execute_result"
    }
   ],
   "source": [
    "print(np.unique(y))\n",
    "\n",
    "#Finding the number of output columns\n",
    "number_of_classes = y.nunique()\n",
    "number_of_classes"
   ]
  },
  {
   "cell_type": "code",
   "execution_count": 209,
   "id": "9d11681d",
   "metadata": {},
   "outputs": [
    {
     "data": {
      "text/plain": [
       "(72798, 26)"
      ]
     },
     "execution_count": 209,
     "metadata": {},
     "output_type": "execute_result"
    }
   ],
   "source": [
    "#One hot encoding of numpy array\\\n",
    "y = y - 10 # Assuming your labels are in the range [10, 35] -> Mapping\n",
    "y = np_utils.to_categorical(y, number_of_classes)\n",
    "y.shape"
   ]
  },
  {
   "cell_type": "code",
   "execution_count": 210,
   "id": "ebc3940f",
   "metadata": {},
   "outputs": [
    {
     "data": {
      "text/plain": [
       "(72798, 28, 28, 1)"
      ]
     },
     "execution_count": 210,
     "metadata": {},
     "output_type": "execute_result"
    }
   ],
   "source": [
    "# Reshaping the train data\n",
    "# As tensorflow requires 4D Array, (batch X width X height X channel) and our x_train is 3D array (no. of images X width X height), we will be adding one more dimension to the x_train\n",
    "X = X.reshape(-1, 28, 28, 1)\n",
    "X.shape"
   ]
  },
  {
   "cell_type": "code",
   "execution_count": 211,
   "id": "f60cc631",
   "metadata": {},
   "outputs": [],
   "source": [
    "# Split 20% validation \n",
    "X_train, X_test, y_train, y_test = train_test_split(X, \n",
    "                                                  y, \n",
    "                                                  test_size= 0.2,\n",
    "                                                  stratify = y,\n",
    "                                                  random_state=88)\n",
    "\n",
    "del X\n",
    "del y"
   ]
  },
  {
   "cell_type": "markdown",
   "id": "dc3ea485",
   "metadata": {},
   "source": [
    "### Initial Basic Model (Nur)"
   ]
  },
  {
   "cell_type": "code",
   "execution_count": 212,
   "id": "29a425e1",
   "metadata": {},
   "outputs": [
    {
     "name": "stdout",
     "output_type": "stream",
     "text": [
      "Model: \"my_model\"\n",
      "_________________________________________________________________\n",
      " Layer (type)                Output Shape              Param #   \n",
      "=================================================================\n",
      " layer1 (Dense)              (None, 28, 28, 25)        50        \n",
      "                                                                 \n",
      " layer2 (Dense)              (None, 28, 28, 15)        390       \n",
      "                                                                 \n",
      " layer3 (Dense)              (None, 28, 28, 10)        160       \n",
      "                                                                 \n",
      "=================================================================\n",
      "Total params: 600 (2.34 KB)\n",
      "Trainable params: 600 (2.34 KB)\n",
      "Non-trainable params: 0 (0.00 Byte)\n",
      "_________________________________________________________________\n"
     ]
    }
   ],
   "source": [
    "# model = Sequential(\n",
    "#     [              \n",
    "#         tf.keras.Input(shape=(28, 28, 1)),\n",
    "#         Dense(25, activation='relu', name='layer1'),\n",
    "#         Dense(15, activation='relu', name='layer2'),\n",
    "#         Dense(10, activation='linear', name='layer3'),\n",
    "#     ], name = \"my_model\" \n",
    "# )\n",
    "# model.summary()"
   ]
  },
  {
   "cell_type": "markdown",
   "id": "5b6d3115",
   "metadata": {},
   "source": [
    "### CNN Model"
   ]
  },
  {
   "cell_type": "code",
   "execution_count": 216,
   "id": "2b8664f1",
   "metadata": {},
   "outputs": [
    {
     "name": "stdout",
     "output_type": "stream",
     "text": [
      "Model: \"sequential_1\"\n",
      "_________________________________________________________________\n",
      " Layer (type)                Output Shape              Param #   \n",
      "=================================================================\n",
      " flatten_1 (Flatten)         (None, 784)               0         \n",
      "                                                                 \n",
      " dense_3 (Dense)             (None, 256)               200960    \n",
      "                                                                 \n",
      " dense_4 (Dense)             (None, 84)                21588     \n",
      "                                                                 \n",
      " dropout_1 (Dropout)         (None, 84)                0         \n",
      "                                                                 \n",
      " dense_5 (Dense)             (None, 26)                2210      \n",
      "                                                                 \n",
      "=================================================================\n",
      "Total params: 224758 (877.96 KB)\n",
      "Trainable params: 224758 (877.96 KB)\n",
      "Non-trainable params: 0 (0.00 Byte)\n",
      "_________________________________________________________________\n"
     ]
    }
   ],
   "source": [
    "# Define the model\n",
    "model = Sequential()\n",
    "\n",
    "# Flatten the output of the last convolutional layer\n",
    "model.add(Flatten(input_shape=(28, 28, 1)))\n",
    "\n",
    "# Fully connected layers\n",
    "model.add(Dense(256, activation='relu'))\n",
    "model.add(Dense(84, activation='relu'))\n",
    "\n",
    "# Dropout layer for regularization\n",
    "model.add(Dropout(0.2))\n",
    "\n",
    "# Output layer\n",
    "model.add(Dense(number_of_classes, activation='softmax'))\n",
    "\n",
    "# Display the summary of the model\n",
    "model.summary()"
   ]
  },
  {
   "cell_type": "code",
   "execution_count": 217,
   "id": "143d6807",
   "metadata": {},
   "outputs": [],
   "source": [
    "# Compile the model with categorical cross-entropy loss, the specified optimizer, and accuracy metric\n",
    "model.compile(loss='categorical_crossentropy', optimizer='adam', metrics=['accuracy'])\n",
    "\n",
    "# Create an EarlyStopping callback to monitor validation loss and stop training if it doesn't improve for 5 epochs\n",
    "early_stopping = EarlyStopping(monitor='val_loss', patience=5, verbose=1, mode='min')\n",
    "\n",
    "# Create a ModelCheckpoint callback to save the best model during training based on validation loss\n",
    "mcp_save = ModelCheckpoint('./saved/nn_model.h5', save_best_only=True, monitor='val_loss', verbose=1, mode='auto')\n",
    "\n",
    "# Create a ReduceLROnPlateau callback to reduce the learning rate if validation loss plateaus for 3 epochs\n",
    "RLP = ReduceLROnPlateau(monitor='val_loss', patience=3, factor=0.2, min_lr=0.0001)\n"
   ]
  },
  {
   "cell_type": "code",
   "execution_count": 218,
   "id": "bede6547",
   "metadata": {},
   "outputs": [
    {
     "name": "stdout",
     "output_type": "stream",
     "text": [
      "Epoch 1/20\n",
      "1814/1820 [============================>.] - ETA: 0s - loss: 0.7763 - accuracy: 0.7707\n",
      "Epoch 1: val_loss improved from inf to 0.38578, saving model to ./saved\\nn_model.h5\n"
     ]
    },
    {
     "name": "stderr",
     "output_type": "stream",
     "text": [
      "D:\\Anaconda\\Lib\\site-packages\\keras\\src\\engine\\training.py:3000: UserWarning: You are saving your model as an HDF5 file via `model.save()`. This file format is considered legacy. We recommend using instead the native Keras format, e.g. `model.save('my_model.keras')`.\n",
      "  saving_api.save_model(\n"
     ]
    },
    {
     "name": "stdout",
     "output_type": "stream",
     "text": [
      "1820/1820 [==============================] - 7s 4ms/step - loss: 0.7752 - accuracy: 0.7710 - val_loss: 0.3858 - val_accuracy: 0.8816 - lr: 0.0010\n",
      "Epoch 2/20\n",
      "1806/1820 [============================>.] - ETA: 0s - loss: 0.3766 - accuracy: 0.8829\n",
      "Epoch 2: val_loss improved from 0.38578 to 0.31516, saving model to ./saved\\nn_model.h5\n",
      "1820/1820 [==============================] - 6s 3ms/step - loss: 0.3763 - accuracy: 0.8830 - val_loss: 0.3152 - val_accuracy: 0.9018 - lr: 0.0010\n",
      "Epoch 3/20\n",
      "1818/1820 [============================>.] - ETA: 0s - loss: 0.2921 - accuracy: 0.9060\n",
      "Epoch 3: val_loss improved from 0.31516 to 0.28662, saving model to ./saved\\nn_model.h5\n",
      "1820/1820 [==============================] - 7s 4ms/step - loss: 0.2921 - accuracy: 0.9060 - val_loss: 0.2866 - val_accuracy: 0.9108 - lr: 0.0010\n",
      "Epoch 4/20\n",
      "1806/1820 [============================>.] - ETA: 0s - loss: 0.2479 - accuracy: 0.9184\n",
      "Epoch 4: val_loss improved from 0.28662 to 0.26610, saving model to ./saved\\nn_model.h5\n",
      "1820/1820 [==============================] - 7s 4ms/step - loss: 0.2482 - accuracy: 0.9183 - val_loss: 0.2661 - val_accuracy: 0.9168 - lr: 0.0010\n",
      "Epoch 5/20\n",
      "1808/1820 [============================>.] - ETA: 0s - loss: 0.2155 - accuracy: 0.9262\n",
      "Epoch 5: val_loss improved from 0.26610 to 0.26501, saving model to ./saved\\nn_model.h5\n",
      "1820/1820 [==============================] - 7s 4ms/step - loss: 0.2152 - accuracy: 0.9264 - val_loss: 0.2650 - val_accuracy: 0.9174 - lr: 0.0010\n",
      "Epoch 6/20\n",
      "1815/1820 [============================>.] - ETA: 0s - loss: 0.1931 - accuracy: 0.9326\n",
      "Epoch 6: val_loss did not improve from 0.26501\n",
      "1820/1820 [==============================] - 7s 4ms/step - loss: 0.1929 - accuracy: 0.9327 - val_loss: 0.2660 - val_accuracy: 0.9236 - lr: 0.0010\n",
      "Epoch 7/20\n",
      "1820/1820 [==============================] - ETA: 0s - loss: 0.1727 - accuracy: 0.9385\n",
      "Epoch 7: val_loss did not improve from 0.26501\n",
      "1820/1820 [==============================] - 7s 4ms/step - loss: 0.1727 - accuracy: 0.9385 - val_loss: 0.2854 - val_accuracy: 0.9191 - lr: 0.0010\n",
      "Epoch 8/20\n",
      "1812/1820 [============================>.] - ETA: 0s - loss: 0.1623 - accuracy: 0.9416\n",
      "Epoch 8: val_loss did not improve from 0.26501\n",
      "1820/1820 [==============================] - 7s 4ms/step - loss: 0.1626 - accuracy: 0.9416 - val_loss: 0.2718 - val_accuracy: 0.9214 - lr: 0.0010\n",
      "Epoch 9/20\n",
      "1811/1820 [============================>.] - ETA: 0s - loss: 0.1068 - accuracy: 0.9611\n",
      "Epoch 9: val_loss improved from 0.26501 to 0.24242, saving model to ./saved\\nn_model.h5\n",
      "1820/1820 [==============================] - 7s 4ms/step - loss: 0.1065 - accuracy: 0.9612 - val_loss: 0.2424 - val_accuracy: 0.9339 - lr: 2.0000e-04\n",
      "Epoch 10/20\n",
      "1803/1820 [============================>.] - ETA: 0s - loss: 0.0934 - accuracy: 0.9651\n",
      "Epoch 10: val_loss did not improve from 0.24242\n",
      "1820/1820 [==============================] - 7s 4ms/step - loss: 0.0932 - accuracy: 0.9652 - val_loss: 0.2501 - val_accuracy: 0.9345 - lr: 2.0000e-04\n",
      "Epoch 11/20\n",
      "1819/1820 [============================>.] - ETA: 0s - loss: 0.0853 - accuracy: 0.9668\n",
      "Epoch 11: val_loss did not improve from 0.24242\n",
      "1820/1820 [==============================] - 7s 4ms/step - loss: 0.0853 - accuracy: 0.9668 - val_loss: 0.2429 - val_accuracy: 0.9343 - lr: 2.0000e-04\n",
      "Epoch 12/20\n",
      "1814/1820 [============================>.] - ETA: 0s - loss: 0.0800 - accuracy: 0.9693\n",
      "Epoch 12: val_loss did not improve from 0.24242\n",
      "1820/1820 [==============================] - 7s 4ms/step - loss: 0.0800 - accuracy: 0.9693 - val_loss: 0.2456 - val_accuracy: 0.9354 - lr: 2.0000e-04\n",
      "Epoch 13/20\n",
      "1807/1820 [============================>.] - ETA: 0s - loss: 0.0725 - accuracy: 0.9722\n",
      "Epoch 13: val_loss did not improve from 0.24242\n",
      "1820/1820 [==============================] - 7s 4ms/step - loss: 0.0725 - accuracy: 0.9722 - val_loss: 0.2465 - val_accuracy: 0.9359 - lr: 1.0000e-04\n",
      "Epoch 14/20\n",
      "1816/1820 [============================>.] - ETA: 0s - loss: 0.0705 - accuracy: 0.9727\n",
      "Epoch 14: val_loss did not improve from 0.24242\n",
      "1820/1820 [==============================] - 7s 4ms/step - loss: 0.0705 - accuracy: 0.9728 - val_loss: 0.2472 - val_accuracy: 0.9359 - lr: 1.0000e-04\n",
      "Epoch 14: early stopping\n"
     ]
    }
   ],
   "source": [
    "# Model Fitting\n",
    "history = model.fit(X_train,  # Training data features\n",
    "                    y_train,  # Training data labels\n",
    "                    epochs=20,  # Number of epochs for training the model\n",
    "                    batch_size=32,  # Number of samples per gradient update\n",
    "                    verbose=1,  # Verbosity mode. 0 = silent, 1 = progress bar, 2 = one line per epoch\n",
    "                    validation_data=(X_test, y_test),  # Validation data for evaluating the model\n",
    "                    callbacks=[mcp_save, early_stopping, RLP])  # Callbacks for additional functionality during training"
   ]
  },
  {
   "cell_type": "code",
   "execution_count": 219,
   "id": "9ead077d",
   "metadata": {},
   "outputs": [],
   "source": [
    "def plotgraph(epochs, acc, val_acc):\n",
    "    # Plot training & validation accuracy values\n",
    "    plt.plot(epochs, acc, 'b')\n",
    "    plt.plot(epochs, val_acc, 'r')\n",
    "    plt.title('Model accuracy')\n",
    "    plt.ylabel('Accuracy')\n",
    "    plt.xlabel('Epoch')\n",
    "    plt.legend(['Train', 'Val'], loc='upper left')\n",
    "    plt.show()\n",
    "    \n",
    "acc = history.history['accuracy']\n",
    "val_acc = history.history['val_accuracy']\n",
    "loss = history.history['loss']\n",
    "val_loss = history.history['val_loss']\n",
    "epochs = range(1,len(acc)+1)"
   ]
  },
  {
   "cell_type": "code",
   "execution_count": 220,
   "id": "11f0fdaa",
   "metadata": {},
   "outputs": [
    {
     "data": {
      "image/png": "[encoded data removed]",
      "text/plain": [
       "<Figure size 640x480 with 1 Axes>"
      ]
     },
     "metadata": {},
     "output_type": "display_data"
    }
   ],
   "source": [
    "# Accuracy curve\n",
    "plotgraph(epochs, acc, val_acc)"
   ]
  },
  {
   "cell_type": "code",
   "execution_count": 221,
   "id": "8b18b19d",
   "metadata": {},
   "outputs": [
    {
     "name": "stdout",
     "output_type": "stream",
     "text": [
      "Loss Curve\n"
     ]
    },
    {
     "data": {
      "image/png": "[encoded data removed]",
      "text/plain": [
       "<Figure size 640x480 with 1 Axes>"
      ]
     },
     "metadata": {},
     "output_type": "display_data"
    }
   ],
   "source": [
    "# loss curve\n",
    "print('Loss Curve')\n",
    "plotgraph(epochs, loss, val_loss)"
   ]
  },
  {
   "cell_type": "markdown",
   "id": "d4019308",
   "metadata": {},
   "source": [
    "### Segmentation and Testing"
   ]
  },
  {
   "cell_type": "code",
   "execution_count": 222,
   "id": "31780181",
   "metadata": {},
   "outputs": [],
   "source": [
    "def sort_contours(cnts, method=\"left-to-right\"):\n",
    "    reverse = False\n",
    "    i = 0\n",
    "    if method == \"right-to-left\" or method == \"bottom-to-top\":\n",
    "        reverse = True\n",
    "    if method == \"top-to-bottom\" or method == \"bottom-to-top\":\n",
    "        i = 1\n",
    "    boundingBoxes = [cv2.boundingRect(c) for c in cnts]\n",
    "    (cnts, boundingBoxes) = zip(*sorted(zip(cnts, boundingBoxes),\n",
    "    key=lambda b:b[1][i], reverse=reverse))\n",
    "    # return the list of sorted contours and bounding boxes\n",
    "    return (cnts, boundingBoxes)"
   ]
  },
  {
   "cell_type": "code",
   "execution_count": 223,
   "id": "7663ae58",
   "metadata": {},
   "outputs": [],
   "source": [
    "def get_letters(img):\n",
    "    letters = []\n",
    "    image = cv2.imread(img)\n",
    "    gray = cv2.cvtColor(image, cv2.COLOR_BGR2GRAY)\n",
    "    ret, thresh1 = cv2.threshold(gray, 127, 255, cv2.THRESH_BINARY_INV)\n",
    "    dilated = cv2.dilate(thresh1, None, iterations=2)\n",
    "\n",
    "    cnts = cv2.findContours(dilated.copy(), cv2.RETR_EXTERNAL, cv2.CHAIN_APPROX_SIMPLE)\n",
    "    cnts = imutils.grab_contours(cnts)\n",
    "    cnts = sort_contours(cnts, method=\"left-to-right\")[0]\n",
    "\n",
    "    # Loop over the contours\n",
    "    for c in cnts:\n",
    "        if cv2.contourArea(c) > 10:\n",
    "            (x, y, w, h) = cv2.boundingRect(c)\n",
    "            cv2.rectangle(image, (x, y), (x + w, y + h), (0, 255, 0), 2)\n",
    "        roi = gray[y:y + h, x:x + w]\n",
    "        thresh = cv2.threshold(roi, 0, 255, cv2.THRESH_BINARY_INV | cv2.THRESH_OTSU)[1]\n",
    "        thresh = cv2.resize(thresh, (28, 28), interpolation=cv2.INTER_CUBIC)\n",
    "        thresh = thresh.astype(\"float32\") / 255.0\n",
    "        thresh = np.expand_dims(thresh, axis=-1)\n",
    "        thresh = thresh.reshape(1, 28, 28, 1)\n",
    "        ypred = model.predict(thresh)\n",
    "        # Assuming ypred is a one-hot encoded vector or probability distribution\n",
    "        # Decode the prediction without using LabelBinarizer\n",
    "        predicted_class = np.argmax(ypred)\n",
    "        letters.append(predicted_class)\n",
    "\n",
    "    return letters, image\n",
    "\n",
    "#plt.imshow(image)"
   ]
  },
  {
   "cell_type": "code",
   "execution_count": 226,
   "id": "47e65705",
   "metadata": {},
   "outputs": [],
   "source": [
    "def get_word(letter):\n",
    "    word = \"\".join([label_dictionary[label+10] for label in letter])\n",
    "    return word"
   ]
  },
  {
   "cell_type": "code",
   "execution_count": 232,
   "id": "7c955642",
   "metadata": {
    "scrolled": true
   },
   "outputs": [
    {
     "name": "stdout",
     "output_type": "stream",
     "text": [
      "1/1 [==============================] - 0s 52ms/step\n",
      "1/1 [==============================] - 0s 39ms/step\n",
      "1/1 [==============================] - 0s 40ms/step\n",
      "1/1 [==============================] - 0s 48ms/step\n",
      "1/1 [==============================] - 0s 39ms/step\n",
      "The model's prediction is:  BENES\n"
     ]
    },
    {
     "data": {
      "text/plain": [
       "<matplotlib.image.AxesImage at 0x234fd73f910>"
      ]
     },
     "execution_count": 232,
     "metadata": {},
     "output_type": "execute_result"
    },
    {
     "data": {
      "image/png": "[encoded data removed]",
      "text/plain": [
       "<Figure size 640x480 with 1 Axes>"
      ]
     },
     "metadata": {},
     "output_type": "display_data"
    }
   ],
   "source": [
    "letter,image = get_letters(\"../Handwriting-Recognition/dataset/train/TRAIN_00003.jpg\")\n",
    "word = get_word(letter)\n",
    "print(\"The model's prediction is: \", word)\n",
    "plt.imshow(image)"
   ]
  },
  {
   "cell_type": "code",
   "execution_count": 236,
   "id": "44a24be5",
   "metadata": {},
   "outputs": [
    {
     "name": "stdout",
     "output_type": "stream",
     "text": [
      "1/1 [==============================] - 0s 40ms/step\n",
      "1/1 [==============================] - 0s 39ms/step\n",
      "1/1 [==============================] - 0s 39ms/step\n",
      "1/1 [==============================] - 0s 48ms/step\n",
      "1/1 [==============================] - 0s 52ms/step\n",
      "The model's prediction is:  LILOU\n"
     ]
    },
    {
     "data": {
      "text/plain": [
       "<matplotlib.image.AxesImage at 0x234fdac6a50>"
      ]
     },
     "execution_count": 236,
     "metadata": {},
     "output_type": "execute_result"
    },
    {
     "data": {
      "image/png": "[encoded data removed]",
      "text/plain": [
       "<Figure size 640x480 with 1 Axes>"
      ]
     },
     "metadata": {},
     "output_type": "display_data"
    }
   ],
   "source": [
    "letter,image = get_letters(\"../Handwriting-Recognition/dataset/train/TRAIN_00023.jpg\")\n",
    "word = get_word(letter)\n",
    "print(\"The model's prediction is: \", word)\n",
    "plt.imshow(image)"
   ]
  },
  {
   "cell_type": "code",
   "execution_count": 235,
   "id": "9b23f395",
   "metadata": {},
   "outputs": [
    {
     "name": "stdout",
     "output_type": "stream",
     "text": [
      "1/1 [==============================] - 0s 38ms/step\n",
      "1/1 [==============================] - 0s 31ms/step\n",
      "1/1 [==============================] - 0s 40ms/step\n",
      "1/1 [==============================] - 0s 47ms/step\n",
      "1/1 [==============================] - 0s 46ms/step\n",
      "1/1 [==============================] - 0s 46ms/step\n",
      "1/1 [==============================] - 0s 44ms/step\n",
      "The model's prediction is:  JAFFEUX\n"
     ]
    },
    {
     "data": {
      "text/plain": [
       "<matplotlib.image.AxesImage at 0x234fda66a50>"
      ]
     },
     "execution_count": 235,
     "metadata": {},
     "output_type": "execute_result"
    },
    {
     "data": {
      "image/png": "[encoded data removed]",
      "text/plain": [
       "<Figure size 640x480 with 1 Axes>"
      ]
     },
     "metadata": {},
     "output_type": "display_data"
    }
   ],
   "source": [
    "letter,image = get_letters(\"../Handwriting-Recognition/dataset/train/TRAIN_00030.jpg\")\n",
    "word = get_word(letter)\n",
    "print(\"The model's prediction is: \", word)\n",
    "plt.imshow(image)"
   ]
  },
  {
   "cell_type": "code",
   "execution_count": 234,
   "id": "a8d4e9b2",
   "metadata": {},
   "outputs": [
    {
     "name": "stdout",
     "output_type": "stream",
     "text": [
      "1/1 [==============================] - 0s 31ms/step\n",
      "1/1 [==============================] - 0s 49ms/step\n",
      "1/1 [==============================] - 0s 39ms/step\n",
      "1/1 [==============================] - 0s 42ms/step\n",
      "1/1 [==============================] - 0s 40ms/step\n",
      "1/1 [==============================] - 0s 39ms/step\n",
      "1/1 [==============================] - 0s 55ms/step\n",
      "1/1 [==============================] - 0s 48ms/step\n",
      "1/1 [==============================] - 0s 49ms/step\n",
      "1/1 [==============================] - 0s 88ms/step\n",
      "The model's prediction is:  LAQURRIERE\n"
     ]
    },
    {
     "data": {
      "text/plain": [
       "<matplotlib.image.AxesImage at 0x234fd996a50>"
      ]
     },
     "execution_count": 234,
     "metadata": {},
     "output_type": "execute_result"
    },
    {
     "data": {
      "image/png": "[encoded data removed]",
      "text/plain": [
       "<Figure size 640x480 with 1 Axes>"
      ]
     },
     "metadata": {},
     "output_type": "display_data"
    }
   ],
   "source": [
    "letter,image = get_letters(\"../Handwriting-Recognition/dataset/train/TRAIN_00050.jpg\")\n",
    "word = get_word(letter)\n",
    "print(\"The model's prediction is: \", word)\n",
    "plt.imshow(image)"
   ]
  },
  {
   "cell_type": "code",
   "execution_count": 233,
   "id": "36a95d75",
   "metadata": {},
   "outputs": [
    {
     "name": "stdout",
     "output_type": "stream",
     "text": [
      "1/1 [==============================] - 0s 48ms/step\n",
      "1/1 [==============================] - 0s 45ms/step\n",
      "1/1 [==============================] - 0s 47ms/step\n",
      "1/1 [==============================] - 0s 49ms/step\n",
      "1/1 [==============================] - 0s 50ms/step\n",
      "1/1 [==============================] - 0s 33ms/step\n",
      "1/1 [==============================] - 0s 38ms/step\n",
      "1/1 [==============================] - 0s 41ms/step\n",
      "1/1 [==============================] - 0s 59ms/step\n",
      "1/1 [==============================] - 0s 48ms/step\n",
      "1/1 [==============================] - 0s 48ms/step\n",
      "1/1 [==============================] - 0s 48ms/step\n",
      "1/1 [==============================] - 0s 40ms/step\n",
      "1/1 [==============================] - 0s 37ms/step\n",
      "1/1 [==============================] - 0s 42ms/step\n",
      "1/1 [==============================] - 0s 38ms/step\n",
      "1/1 [==============================] - 0s 47ms/step\n",
      "1/1 [==============================] - 0s 38ms/step\n",
      "1/1 [==============================] - 0s 41ms/step\n",
      "1/1 [==============================] - 0s 32ms/step\n",
      "The model's prediction is:  WPIPBPLPAPPNLFOWNWQN\n"
     ]
    },
    {
     "data": {
      "text/plain": [
       "<matplotlib.image.AxesImage at 0x234fd943d50>"
      ]
     },
     "execution_count": 233,
     "metadata": {},
     "output_type": "execute_result"
    },
    {
     "data": {
      "image/png": "[encoded data removed]",
      "text/plain": [
       "<Figure size 640x480 with 1 Axes>"
      ]
     },
     "metadata": {},
     "output_type": "display_data"
    }
   ],
   "source": [
    "letter,image = get_letters(\"../Handwriting-Recognition/dataset/train/TRAIN_00064.jpg\")\n",
    "word = get_word(letter)\n",
    "print(\"The model's prediction is: \", word)\n",
    "plt.imshow(image)"
   ]
  },
  {
   "cell_type": "code",
   "execution_count": null,
   "id": "91b53026",
   "metadata": {},
   "outputs": [],
   "source": []
  }
 ],
 "metadata": {
  "kernelspec": {
   "display_name": "Python 3 (ipykernel)",
   "language": "python",
   "name": "python3"
  },
  "language_info": {
   "codemirror_mode": {
    "name": "ipython",
    "version": 3
   },
   "file_extension": ".py",
   "mimetype": "text/x-python",
   "name": "python",
   "nbconvert_exporter": "python",
   "pygments_lexer": "ipython3",
   "version": "3.11.5"
  }
 },
 "nbformat": 4,
 "nbformat_minor": 5
}
