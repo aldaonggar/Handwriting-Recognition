{
 "cells": [
  {
   "cell_type": "code",
   "execution_count": 23,
   "id": "b2194b0c",
   "metadata": {},
   "outputs": [],
   "source": [
    "import numpy as np\n",
    "import pandas as pd\n",
    "import cv2\n",
    "import matplotlib.pyplot as plt\n",
    "\n",
    "import random\n",
    "\n",
    "from sklearn.model_selection import train_test_split\n",
    "\n",
    "import tensorflow as tf\n",
    "from keras.models import Sequential, load_model\n",
    "from keras import layers\n",
    "from tensorflow.keras.layers import Dense, Flatten, Dropout\n",
    "from keras.callbacks import EarlyStopping, ModelCheckpoint, ReduceLROnPlateau\n",
    "from keras.src.utils import np_utils\n",
    "from tensorflow.keras.optimizers import Adam\n"
   ]
  },
  {
   "cell_type": "code",
   "execution_count": 2,
   "id": "34ff757c",
   "metadata": {},
   "outputs": [],
   "source": [
    "#Reading using pandas\n",
    "train_df = pd.read_csv('./dataset/EMNIST/emnist-balanced-train.csv', header=None)\n",
    "test_df = pd.read_csv('./dataset/EMNIST/emnist-balanced-test.csv', header=None)\n",
    "# Add test dataset into train dataset\n",
    "df = pd.concat([train_df, test_df], ignore_index=True)\n",
    "df.head()\n",
    "# Clear memory\n",
    "del train_df\n",
    "del test_df"
   ]
  },
  {
   "cell_type": "code",
   "execution_count": 3,
   "id": "f5e169d2",
   "metadata": {},
   "outputs": [
    {
     "data": {
      "text/plain": [
       "{0: '0',\n",
       " 1: '1',\n",
       " 2: '2',\n",
       " 3: '3',\n",
       " 4: '4',\n",
       " 5: '5',\n",
       " 6: '6',\n",
       " 7: '7',\n",
       " 8: '8',\n",
       " 9: '9',\n",
       " 10: 'A',\n",
       " 11: 'B',\n",
       " 12: 'C',\n",
       " 13: 'D',\n",
       " 14: 'E',\n",
       " 15: 'F',\n",
       " 16: 'G',\n",
       " 17: 'H',\n",
       " 18: 'I',\n",
       " 19: 'J',\n",
       " 20: 'K',\n",
       " 21: 'L',\n",
       " 22: 'M',\n",
       " 23: 'N',\n",
       " 24: 'O',\n",
       " 25: 'P',\n",
       " 26: 'Q',\n",
       " 27: 'R',\n",
       " 28: 'S',\n",
       " 29: 'T',\n",
       " 30: 'U',\n",
       " 31: 'V',\n",
       " 32: 'W',\n",
       " 33: 'X',\n",
       " 34: 'Y',\n",
       " 35: 'Z',\n",
       " 36: 'a',\n",
       " 37: 'b',\n",
       " 38: 'd',\n",
       " 39: 'e',\n",
       " 40: 'f',\n",
       " 41: 'g',\n",
       " 42: 'h',\n",
       " 43: 'n',\n",
       " 44: 'q',\n",
       " 45: 'r',\n",
       " 46: 't'}"
      ]
     },
     "execution_count": 3,
     "metadata": {},
     "output_type": "execute_result"
    }
   ],
   "source": [
    "#Reading the file\n",
    "label_map = pd.read_csv(\"./dataset/EMNIST/emnist-balanced-mapping.txt\",\n",
    "                        delimiter = ' ',\n",
    "                        index_col=0,\n",
    "                        header=None)\n",
    "label_map = label_map.iloc[:, 0]\n",
    "\n",
    "#Initialising an empty dictionary\n",
    "label_dictionary = {}\n",
    "\n",
    "#Running a loop for ASCII equivalent to character conversion\n",
    "for index, label in enumerate(label_map):\n",
    "    label_dictionary[index] = chr(label)\n",
    "\n",
    "label_dictionary"
   ]
  },
  {
   "cell_type": "code",
   "execution_count": 4,
   "id": "3df47420",
   "metadata": {},
   "outputs": [
    {
     "data": {
      "text/plain": [
       "(131600, 785)"
      ]
     },
     "execution_count": 4,
     "metadata": {},
     "output_type": "execute_result"
    }
   ],
   "source": [
    "df.shape\n"
   ]
  },
  {
   "cell_type": "code",
   "execution_count": 5,
   "id": "1759a9c9",
   "metadata": {},
   "outputs": [
    {
     "data": {
      "text/html": [
       "<div>\n",
       "<style scoped>\n",
       "    .dataframe tbody tr th:only-of-type {\n",
       "        vertical-align: middle;\n",
       "    }\n",
       "\n",
       "    .dataframe tbody tr th {\n",
       "        vertical-align: top;\n",
       "    }\n",
       "\n",
       "    .dataframe thead th {\n",
       "        text-align: right;\n",
       "    }\n",
       "</style>\n",
       "<table border=\"1\" class=\"dataframe\">\n",
       "  <thead>\n",
       "    <tr style=\"text-align: right;\">\n",
       "      <th></th>\n",
       "      <th>0</th>\n",
       "      <th>1</th>\n",
       "      <th>2</th>\n",
       "      <th>3</th>\n",
       "      <th>4</th>\n",
       "      <th>5</th>\n",
       "      <th>6</th>\n",
       "      <th>7</th>\n",
       "      <th>8</th>\n",
       "      <th>9</th>\n",
       "      <th>...</th>\n",
       "      <th>775</th>\n",
       "      <th>776</th>\n",
       "      <th>777</th>\n",
       "      <th>778</th>\n",
       "      <th>779</th>\n",
       "      <th>780</th>\n",
       "      <th>781</th>\n",
       "      <th>782</th>\n",
       "      <th>783</th>\n",
       "      <th>784</th>\n",
       "    </tr>\n",
       "  </thead>\n",
       "  <tbody>\n",
       "    <tr>\n",
       "      <th>count</th>\n",
       "      <td>131600.000000</td>\n",
       "      <td>131600.0</td>\n",
       "      <td>131600.0</td>\n",
       "      <td>131600.0</td>\n",
       "      <td>131600.0</td>\n",
       "      <td>131600.000000</td>\n",
       "      <td>131600.000000</td>\n",
       "      <td>131600.000000</td>\n",
       "      <td>131600.000000</td>\n",
       "      <td>131600.000000</td>\n",
       "      <td>...</td>\n",
       "      <td>131600.000000</td>\n",
       "      <td>131600.0</td>\n",
       "      <td>131600.0</td>\n",
       "      <td>131600.000000</td>\n",
       "      <td>131600.000000</td>\n",
       "      <td>131600.0</td>\n",
       "      <td>131600.0</td>\n",
       "      <td>131600.0</td>\n",
       "      <td>131600.0</td>\n",
       "      <td>131600.0</td>\n",
       "    </tr>\n",
       "    <tr>\n",
       "      <th>mean</th>\n",
       "      <td>23.000000</td>\n",
       "      <td>0.0</td>\n",
       "      <td>0.0</td>\n",
       "      <td>0.0</td>\n",
       "      <td>0.0</td>\n",
       "      <td>0.002036</td>\n",
       "      <td>0.012728</td>\n",
       "      <td>0.019354</td>\n",
       "      <td>0.016284</td>\n",
       "      <td>0.017447</td>\n",
       "      <td>...</td>\n",
       "      <td>0.000266</td>\n",
       "      <td>0.0</td>\n",
       "      <td>0.0</td>\n",
       "      <td>0.001854</td>\n",
       "      <td>0.000243</td>\n",
       "      <td>0.0</td>\n",
       "      <td>0.0</td>\n",
       "      <td>0.0</td>\n",
       "      <td>0.0</td>\n",
       "      <td>0.0</td>\n",
       "    </tr>\n",
       "    <tr>\n",
       "      <th>std</th>\n",
       "      <td>13.564712</td>\n",
       "      <td>0.0</td>\n",
       "      <td>0.0</td>\n",
       "      <td>0.0</td>\n",
       "      <td>0.0</td>\n",
       "      <td>0.295477</td>\n",
       "      <td>1.312534</td>\n",
       "      <td>1.586618</td>\n",
       "      <td>1.521459</td>\n",
       "      <td>1.692130</td>\n",
       "      <td>...</td>\n",
       "      <td>0.096481</td>\n",
       "      <td>0.0</td>\n",
       "      <td>0.0</td>\n",
       "      <td>0.672608</td>\n",
       "      <td>0.088211</td>\n",
       "      <td>0.0</td>\n",
       "      <td>0.0</td>\n",
       "      <td>0.0</td>\n",
       "      <td>0.0</td>\n",
       "      <td>0.0</td>\n",
       "    </tr>\n",
       "    <tr>\n",
       "      <th>min</th>\n",
       "      <td>0.000000</td>\n",
       "      <td>0.0</td>\n",
       "      <td>0.0</td>\n",
       "      <td>0.0</td>\n",
       "      <td>0.0</td>\n",
       "      <td>0.000000</td>\n",
       "      <td>0.000000</td>\n",
       "      <td>0.000000</td>\n",
       "      <td>0.000000</td>\n",
       "      <td>0.000000</td>\n",
       "      <td>...</td>\n",
       "      <td>0.000000</td>\n",
       "      <td>0.0</td>\n",
       "      <td>0.0</td>\n",
       "      <td>0.000000</td>\n",
       "      <td>0.000000</td>\n",
       "      <td>0.0</td>\n",
       "      <td>0.0</td>\n",
       "      <td>0.0</td>\n",
       "      <td>0.0</td>\n",
       "      <td>0.0</td>\n",
       "    </tr>\n",
       "    <tr>\n",
       "      <th>25%</th>\n",
       "      <td>11.000000</td>\n",
       "      <td>0.0</td>\n",
       "      <td>0.0</td>\n",
       "      <td>0.0</td>\n",
       "      <td>0.0</td>\n",
       "      <td>0.000000</td>\n",
       "      <td>0.000000</td>\n",
       "      <td>0.000000</td>\n",
       "      <td>0.000000</td>\n",
       "      <td>0.000000</td>\n",
       "      <td>...</td>\n",
       "      <td>0.000000</td>\n",
       "      <td>0.0</td>\n",
       "      <td>0.0</td>\n",
       "      <td>0.000000</td>\n",
       "      <td>0.000000</td>\n",
       "      <td>0.0</td>\n",
       "      <td>0.0</td>\n",
       "      <td>0.0</td>\n",
       "      <td>0.0</td>\n",
       "      <td>0.0</td>\n",
       "    </tr>\n",
       "    <tr>\n",
       "      <th>50%</th>\n",
       "      <td>23.000000</td>\n",
       "      <td>0.0</td>\n",
       "      <td>0.0</td>\n",
       "      <td>0.0</td>\n",
       "      <td>0.0</td>\n",
       "      <td>0.000000</td>\n",
       "      <td>0.000000</td>\n",
       "      <td>0.000000</td>\n",
       "      <td>0.000000</td>\n",
       "      <td>0.000000</td>\n",
       "      <td>...</td>\n",
       "      <td>0.000000</td>\n",
       "      <td>0.0</td>\n",
       "      <td>0.0</td>\n",
       "      <td>0.000000</td>\n",
       "      <td>0.000000</td>\n",
       "      <td>0.0</td>\n",
       "      <td>0.0</td>\n",
       "      <td>0.0</td>\n",
       "      <td>0.0</td>\n",
       "      <td>0.0</td>\n",
       "    </tr>\n",
       "    <tr>\n",
       "      <th>75%</th>\n",
       "      <td>35.000000</td>\n",
       "      <td>0.0</td>\n",
       "      <td>0.0</td>\n",
       "      <td>0.0</td>\n",
       "      <td>0.0</td>\n",
       "      <td>0.000000</td>\n",
       "      <td>0.000000</td>\n",
       "      <td>0.000000</td>\n",
       "      <td>0.000000</td>\n",
       "      <td>0.000000</td>\n",
       "      <td>...</td>\n",
       "      <td>0.000000</td>\n",
       "      <td>0.0</td>\n",
       "      <td>0.0</td>\n",
       "      <td>0.000000</td>\n",
       "      <td>0.000000</td>\n",
       "      <td>0.0</td>\n",
       "      <td>0.0</td>\n",
       "      <td>0.0</td>\n",
       "      <td>0.0</td>\n",
       "      <td>0.0</td>\n",
       "    </tr>\n",
       "    <tr>\n",
       "      <th>max</th>\n",
       "      <td>46.000000</td>\n",
       "      <td>0.0</td>\n",
       "      <td>0.0</td>\n",
       "      <td>0.0</td>\n",
       "      <td>0.0</td>\n",
       "      <td>63.000000</td>\n",
       "      <td>213.000000</td>\n",
       "      <td>217.000000</td>\n",
       "      <td>217.000000</td>\n",
       "      <td>217.000000</td>\n",
       "      <td>...</td>\n",
       "      <td>35.000000</td>\n",
       "      <td>0.0</td>\n",
       "      <td>0.0</td>\n",
       "      <td>244.000000</td>\n",
       "      <td>32.000000</td>\n",
       "      <td>0.0</td>\n",
       "      <td>0.0</td>\n",
       "      <td>0.0</td>\n",
       "      <td>0.0</td>\n",
       "      <td>0.0</td>\n",
       "    </tr>\n",
       "  </tbody>\n",
       "</table>\n",
       "<p>8 rows × 785 columns</p>\n",
       "</div>"
      ],
      "text/plain": [
       "                 0         1         2         3         4              5    \\\n",
       "count  131600.000000  131600.0  131600.0  131600.0  131600.0  131600.000000   \n",
       "mean       23.000000       0.0       0.0       0.0       0.0       0.002036   \n",
       "std        13.564712       0.0       0.0       0.0       0.0       0.295477   \n",
       "min         0.000000       0.0       0.0       0.0       0.0       0.000000   \n",
       "25%        11.000000       0.0       0.0       0.0       0.0       0.000000   \n",
       "50%        23.000000       0.0       0.0       0.0       0.0       0.000000   \n",
       "75%        35.000000       0.0       0.0       0.0       0.0       0.000000   \n",
       "max        46.000000       0.0       0.0       0.0       0.0      63.000000   \n",
       "\n",
       "                 6              7              8              9    ...  \\\n",
       "count  131600.000000  131600.000000  131600.000000  131600.000000  ...   \n",
       "mean        0.012728       0.019354       0.016284       0.017447  ...   \n",
       "std         1.312534       1.586618       1.521459       1.692130  ...   \n",
       "min         0.000000       0.000000       0.000000       0.000000  ...   \n",
       "25%         0.000000       0.000000       0.000000       0.000000  ...   \n",
       "50%         0.000000       0.000000       0.000000       0.000000  ...   \n",
       "75%         0.000000       0.000000       0.000000       0.000000  ...   \n",
       "max       213.000000     217.000000     217.000000     217.000000  ...   \n",
       "\n",
       "                 775       776       777            778            779  \\\n",
       "count  131600.000000  131600.0  131600.0  131600.000000  131600.000000   \n",
       "mean        0.000266       0.0       0.0       0.001854       0.000243   \n",
       "std         0.096481       0.0       0.0       0.672608       0.088211   \n",
       "min         0.000000       0.0       0.0       0.000000       0.000000   \n",
       "25%         0.000000       0.0       0.0       0.000000       0.000000   \n",
       "50%         0.000000       0.0       0.0       0.000000       0.000000   \n",
       "75%         0.000000       0.0       0.0       0.000000       0.000000   \n",
       "max        35.000000       0.0       0.0     244.000000      32.000000   \n",
       "\n",
       "            780       781       782       783       784  \n",
       "count  131600.0  131600.0  131600.0  131600.0  131600.0  \n",
       "mean        0.0       0.0       0.0       0.0       0.0  \n",
       "std         0.0       0.0       0.0       0.0       0.0  \n",
       "min         0.0       0.0       0.0       0.0       0.0  \n",
       "25%         0.0       0.0       0.0       0.0       0.0  \n",
       "50%         0.0       0.0       0.0       0.0       0.0  \n",
       "75%         0.0       0.0       0.0       0.0       0.0  \n",
       "max         0.0       0.0       0.0       0.0       0.0  \n",
       "\n",
       "[8 rows x 785 columns]"
      ]
     },
     "execution_count": 5,
     "metadata": {},
     "output_type": "execute_result"
    }
   ],
   "source": [
    "df.describe()\n"
   ]
  },
  {
   "cell_type": "markdown",
   "id": "823bd03a",
   "metadata": {},
   "source": [
    "### Preprocessing data\n"
   ]
  },
  {
   "cell_type": "code",
   "execution_count": 6,
   "id": "28feaaa0",
   "metadata": {},
   "outputs": [
    {
     "name": "stdout",
     "output_type": "stream",
     "text": [
      "Any missing value? 0\n",
      "Any duplicates? 0\n",
      "Any values outside the range of 0 and 255? 0\n"
     ]
    }
   ],
   "source": [
    "# Is there any missing values\n",
    "df.dropna(inplace=True)\n",
    "num_missing_values = df.isnull().sum().sum()\n",
    "\n",
    "# Remove duplicates if any\n",
    "df.drop_duplicates(inplace=True)\n",
    "num_duplicates = df.duplicated().sum()\n",
    "\n",
    "# Make sure the grayscale values to be between 0 and 255\n",
    "df = np.clip(df, 0, 255)\n",
    "num_values_outside_range = ((df < 0) | (df > 255)).sum().sum()\n",
    "\n",
    "# Check if we have any null values or duplicated rows or values outside (0, 255) range.\n",
    "print(f\"Any missing value? {num_missing_values}\")\n",
    "print(f\"Any duplicates? {num_duplicates}\")\n",
    "print(f\"Any values outside the range of 0 and 255? {num_values_outside_range}\")"
   ]
  },
  {
   "cell_type": "code",
   "execution_count": 7,
   "id": "e5e8cdb1",
   "metadata": {},
   "outputs": [],
   "source": [
    "# We split our dataframe into feature matrix (X) and target vector (y)\n",
    "X = df.loc[:, 1:]\n",
    "y = df.loc[:, 0]\n",
    "\n",
    "X.shape, y.shape\n",
    "\n",
    "del df"
   ]
  },
  {
   "cell_type": "code",
   "execution_count": 8,
   "id": "065cb8b8",
   "metadata": {},
   "outputs": [],
   "source": [
    "#Data Scaling to bring the input values between 0 to 1\n",
    "X = X.astype('float32') / 255\n",
    "\n",
    "# Convert target variable to integer labels\n",
    "y = y.astype(int)"
   ]
  },
  {
   "cell_type": "code",
   "execution_count": 9,
   "id": "aad07f63",
   "metadata": {},
   "outputs": [
    {
     "data": {
      "text/plain": [
       "((784,), 23)"
      ]
     },
     "execution_count": 9,
     "metadata": {},
     "output_type": "execute_result"
    }
   ],
   "source": [
    "# Sample entry number 263\n",
    "sample_image = X.iloc[42]\n",
    "sample_label = y.iloc[42]\n",
    "sample_image.shape, sample_label"
   ]
  },
  {
   "cell_type": "code",
   "execution_count": 10,
   "id": "30b223f2",
   "metadata": {},
   "outputs": [
    {
     "name": "stdout",
     "output_type": "stream",
     "text": [
      "Label entry No. 42: N\n"
     ]
    },
    {
     "data": {
      "image/png": "[encoded data removed]",
      "text/plain": [
       "<Figure size 640x480 with 1 Axes>"
      ]
     },
     "metadata": {},
     "output_type": "display_data"
    }
   ],
   "source": [
    "print(\"Label entry No. 42:\", label_dictionary[sample_label])\n",
    "plt.imshow(sample_image.values.reshape(28, 28), cmap=plt.cm.gray)\n",
    "plt.show()"
   ]
  },
  {
   "cell_type": "code",
   "execution_count": 11,
   "id": "666f2b4c",
   "metadata": {},
   "outputs": [],
   "source": [
    "def flip_and_rotate(image):\n",
    "    W = 28\n",
    "    H = 28\n",
    "    image = image.reshape(28, 28)\n",
    "    image = np.fliplr(image)\n",
    "    image = np.rot90(image)\n",
    "    return image"
   ]
  },
  {
   "cell_type": "code",
   "execution_count": 12,
   "id": "f71d30d1",
   "metadata": {},
   "outputs": [
    {
     "name": "stdout",
     "output_type": "stream",
     "text": [
      "Label entry 42: N\n"
     ]
    },
    {
     "data": {
      "image/png": "[encoded data removed]",
      "text/plain": [
       "<Figure size 640x480 with 1 Axes>"
      ]
     },
     "metadata": {},
     "output_type": "display_data"
    }
   ],
   "source": [
    "print(\"Label entry 42:\", label_dictionary[sample_label])\n",
    "plt.imshow(flip_and_rotate(sample_image.values), cmap=plt.cm.gray)\n",
    "plt.show()"
   ]
  },
  {
   "cell_type": "code",
   "execution_count": 13,
   "id": "0152d92a",
   "metadata": {},
   "outputs": [
    {
     "data": {
      "text/plain": [
       "(131598, 28, 28)"
      ]
     },
     "execution_count": 13,
     "metadata": {},
     "output_type": "execute_result"
    }
   ],
   "source": [
    "# Next we want to apply reshape_and_rotate to all images in X_train\n",
    "X = np.asarray(X)\n",
    "X = np.apply_along_axis(flip_and_rotate, 1, X)\n",
    "X.shape"
   ]
  },
  {
   "cell_type": "code",
   "execution_count": 14,
   "id": "7b89d337",
   "metadata": {},
   "outputs": [
    {
     "data": {
      "image/png": "[encoded data removed]",
      "text/plain": [
       "<Figure size 960x480 with 10 Axes>"
      ]
     },
     "metadata": {},
     "output_type": "display_data"
    }
   ],
   "source": [
    "plt.figure(figsize=(12, 6), dpi=80)  # Adjust the figure size to accommodate two rows\n",
    "for i in range(100, 110):  # Update the range to select 10 samples\n",
    "    plt.subplot(2, 5, i - 99)  # Use 2 rows and 5 columns for displaying the samples\n",
    "    plt.imshow(X[i], cmap=plt.cm.gray)\n",
    "    plt.title(label_dictionary[y[i]])\n",
    "plt.tight_layout()  # Adjust the spacing between subplots\n",
    "plt.show()"
   ]
  },
  {
   "cell_type": "code",
   "execution_count": 15,
   "id": "17e12b2c",
   "metadata": {},
   "outputs": [
    {
     "data": {
      "text/plain": [
       "47"
      ]
     },
     "execution_count": 15,
     "metadata": {},
     "output_type": "execute_result"
    }
   ],
   "source": [
    "#Finding the number of output columns\n",
    "number_of_classes = y.nunique()\n",
    "number_of_classes"
   ]
  },
  {
   "cell_type": "code",
   "execution_count": 16,
   "id": "9d11681d",
   "metadata": {},
   "outputs": [
    {
     "data": {
      "text/plain": [
       "(131598, 47)"
      ]
     },
     "execution_count": 16,
     "metadata": {},
     "output_type": "execute_result"
    }
   ],
   "source": [
    "#One hot encoding of numpy array\n",
    "y = np_utils.to_categorical(y, number_of_classes)\n",
    "y.shape"
   ]
  },
  {
   "cell_type": "code",
   "execution_count": 17,
   "id": "ebc3940f",
   "metadata": {},
   "outputs": [
    {
     "data": {
      "text/plain": [
       "(131598, 28, 28, 1)"
      ]
     },
     "execution_count": 17,
     "metadata": {},
     "output_type": "execute_result"
    }
   ],
   "source": [
    "# Reshaping the train data\n",
    "# As tensorflow requires 4D Array, (batch X width X height X channel) and our x_train is 3D array (no. of images X width X height), we will be adding one more dimension to the x_train\n",
    "X = X.reshape(-1, 28, 28, 1)\n",
    "X.shape"
   ]
  },
  {
   "cell_type": "code",
   "execution_count": 18,
   "id": "f60cc631",
   "metadata": {},
   "outputs": [],
   "source": [
    "# Split 20% validation \n",
    "X_train, X_test, y_train, y_test = train_test_split(X, \n",
    "                                                  y, \n",
    "                                                  test_size= 0.2,\n",
    "                                                  stratify = y,\n",
    "                                                  random_state=88)\n",
    "\n",
    "del X\n",
    "del y"
   ]
  },
  {
   "cell_type": "markdown",
   "id": "dc3ea485",
   "metadata": {},
   "source": [
    "### Initial Basic Model (Nur)"
   ]
  },
  {
   "cell_type": "code",
   "execution_count": 19,
   "id": "29a425e1",
   "metadata": {},
   "outputs": [
    {
     "name": "stdout",
     "output_type": "stream",
     "text": [
      "Model: \"my_model\"\n",
      "_________________________________________________________________\n",
      " Layer (type)                Output Shape              Param #   \n",
      "=================================================================\n",
      " layer1 (Dense)              (None, 28, 28, 25)        50        \n",
      "                                                                 \n",
      " layer2 (Dense)              (None, 28, 28, 15)        390       \n",
      "                                                                 \n",
      " layer3 (Dense)              (None, 28, 28, 10)        160       \n",
      "                                                                 \n",
      "=================================================================\n",
      "Total params: 600 (2.34 KB)\n",
      "Trainable params: 600 (2.34 KB)\n",
      "Non-trainable params: 0 (0.00 Byte)\n",
      "_________________________________________________________________\n"
     ]
    }
   ],
   "source": [
    "model = Sequential(\n",
    "    [              \n",
    "        tf.keras.Input(shape=(28, 28, 1)),\n",
    "        Dense(25, activation='relu', name='layer1'),\n",
    "        Dense(15, activation='relu', name='layer2'),\n",
    "        Dense(10, activation='linear', name='layer3'),\n",
    "    ], name = \"my_model\" \n",
    ")\n",
    "model.summary()"
   ]
  },
  {
   "cell_type": "markdown",
   "id": "5b6d3115",
   "metadata": {},
   "source": [
    "### CNN Model"
   ]
  },
  {
   "cell_type": "code",
   "execution_count": 24,
   "id": "2b8664f1",
   "metadata": {},
   "outputs": [
    {
     "name": "stdout",
     "output_type": "stream",
     "text": [
      "Model: \"sequential_2\"\n",
      "_________________________________________________________________\n",
      " Layer (type)                Output Shape              Param #   \n",
      "=================================================================\n",
      " flatten_1 (Flatten)         (None, 784)               0         \n",
      "                                                                 \n",
      " dense_2 (Dense)             (None, 256)               200960    \n",
      "                                                                 \n",
      " dense_3 (Dense)             (None, 84)                21588     \n",
      "                                                                 \n",
      " dropout (Dropout)           (None, 84)                0         \n",
      "                                                                 \n",
      " dense_4 (Dense)             (None, 47)                3995      \n",
      "                                                                 \n",
      "=================================================================\n",
      "Total params: 226543 (884.93 KB)\n",
      "Trainable params: 226543 (884.93 KB)\n",
      "Non-trainable params: 0 (0.00 Byte)\n",
      "_________________________________________________________________\n"
     ]
    }
   ],
   "source": [
    "# Define the model\n",
    "model = Sequential()\n",
    "\n",
    "# Flatten the output of the last convolutional layer\n",
    "model.add(Flatten(input_shape=(28, 28, 1)))\n",
    "\n",
    "# Fully connected layers\n",
    "model.add(Dense(256, activation='relu'))\n",
    "model.add(Dense(84, activation='relu'))\n",
    "\n",
    "# Dropout layer for regularization\n",
    "model.add(Dropout(0.2))\n",
    "\n",
    "# Output layer\n",
    "model.add(Dense(number_of_classes, activation='softmax'))\n",
    "\n",
    "# Display the summary of the model\n",
    "model.summary()"
   ]
  },
  {
   "cell_type": "code",
   "execution_count": 25,
   "id": "143d6807",
   "metadata": {},
   "outputs": [],
   "source": [
    "# Compile the model with categorical cross-entropy loss, the specified optimizer, and accuracy metric\n",
    "model.compile(loss='categorical_crossentropy', optimizer='adam', metrics=['accuracy'])\n",
    "\n",
    "# Create an EarlyStopping callback to monitor validation loss and stop training if it doesn't improve for 5 epochs\n",
    "early_stopping = EarlyStopping(monitor='val_loss', patience=5, verbose=1, mode='min')\n",
    "\n",
    "# Create a ModelCheckpoint callback to save the best model during training based on validation loss\n",
    "mcp_save = ModelCheckpoint('./saved/nn_model.h5', save_best_only=True, monitor='val_loss', verbose=1, mode='auto')\n",
    "\n",
    "# Create a ReduceLROnPlateau callback to reduce the learning rate if validation loss plateaus for 3 epochs\n",
    "RLP = ReduceLROnPlateau(monitor='val_loss', patience=3, factor=0.2, min_lr=0.0001)\n"
   ]
  },
  {
   "cell_type": "code",
   "execution_count": 26,
   "id": "bede6547",
   "metadata": {},
   "outputs": [
    {
     "name": "stdout",
     "output_type": "stream",
     "text": [
      "Epoch 1/20\n",
      "3282/3290 [============================>.] - ETA: 0s - loss: 1.0848 - accuracy: 0.6749\n",
      "Epoch 1: val_loss improved from inf to 0.64189, saving model to ./saved\\nn_model.h5\n",
      "3290/3290 [==============================] - 13s 4ms/step - loss: 1.0843 - accuracy: 0.6749 - val_loss: 0.6419 - val_accuracy: 0.7959 - lr: 0.0010\n",
      "Epoch 2/20\n",
      "  26/3290 [..............................] - ETA: 13s - loss: 0.7075 - accuracy: 0.7692"
     ]
    },
    {
     "name": "stderr",
     "output_type": "stream",
     "text": [
      "D:\\Anaconda\\Lib\\site-packages\\keras\\src\\engine\\training.py:3000: UserWarning: You are saving your model as an HDF5 file via `model.save()`. This file format is considered legacy. We recommend using instead the native Keras format, e.g. `model.save('my_model.keras')`.\n",
      "  saving_api.save_model(\n"
     ]
    },
    {
     "name": "stdout",
     "output_type": "stream",
     "text": [
      "3282/3290 [============================>.] - ETA: 0s - loss: 0.6490 - accuracy: 0.7887\n",
      "Epoch 2: val_loss improved from 0.64189 to 0.55672, saving model to ./saved\\nn_model.h5\n",
      "3290/3290 [==============================] - 15s 5ms/step - loss: 0.6487 - accuracy: 0.7889 - val_loss: 0.5567 - val_accuracy: 0.8171 - lr: 0.0010\n",
      "Epoch 3/20\n",
      "3282/3290 [============================>.] - ETA: 0s - loss: 0.5602 - accuracy: 0.8133\n",
      "Epoch 3: val_loss improved from 0.55672 to 0.52960, saving model to ./saved\\nn_model.h5\n",
      "3290/3290 [==============================] - 15s 5ms/step - loss: 0.5604 - accuracy: 0.8132 - val_loss: 0.5296 - val_accuracy: 0.8227 - lr: 0.0010\n",
      "Epoch 4/20\n",
      "3281/3290 [============================>.] - ETA: 0s - loss: 0.5132 - accuracy: 0.8265\n",
      "Epoch 4: val_loss improved from 0.52960 to 0.51285, saving model to ./saved\\nn_model.h5\n",
      "3290/3290 [==============================] - 15s 5ms/step - loss: 0.5130 - accuracy: 0.8266 - val_loss: 0.5129 - val_accuracy: 0.8314 - lr: 0.0010\n",
      "Epoch 5/20\n",
      "3279/3290 [============================>.] - ETA: 0s - loss: 0.4809 - accuracy: 0.8333\n",
      "Epoch 5: val_loss improved from 0.51285 to 0.50384, saving model to ./saved\\nn_model.h5\n",
      "3290/3290 [==============================] - 15s 5ms/step - loss: 0.4807 - accuracy: 0.8334 - val_loss: 0.5038 - val_accuracy: 0.8331 - lr: 0.0010\n",
      "Epoch 6/20\n",
      "3278/3290 [============================>.] - ETA: 0s - loss: 0.4575 - accuracy: 0.8404\n",
      "Epoch 6: val_loss improved from 0.50384 to 0.48347, saving model to ./saved\\nn_model.h5\n",
      "3290/3290 [==============================] - 15s 5ms/step - loss: 0.4576 - accuracy: 0.8404 - val_loss: 0.4835 - val_accuracy: 0.8418 - lr: 0.0010\n",
      "Epoch 7/20\n",
      "3280/3290 [============================>.] - ETA: 0s - loss: 0.4364 - accuracy: 0.8457\n",
      "Epoch 7: val_loss did not improve from 0.48347\n",
      "3290/3290 [==============================] - 15s 5ms/step - loss: 0.4363 - accuracy: 0.8457 - val_loss: 0.5137 - val_accuracy: 0.8347 - lr: 0.0010\n",
      "Epoch 8/20\n",
      "3285/3290 [============================>.] - ETA: 0s - loss: 0.4197 - accuracy: 0.8501\n",
      "Epoch 8: val_loss did not improve from 0.48347\n",
      "3290/3290 [==============================] - 16s 5ms/step - loss: 0.4198 - accuracy: 0.8501 - val_loss: 0.5042 - val_accuracy: 0.8367 - lr: 0.0010\n",
      "Epoch 9/20\n",
      "3278/3290 [============================>.] - ETA: 0s - loss: 0.4034 - accuracy: 0.8561\n",
      "Epoch 9: val_loss did not improve from 0.48347\n",
      "3290/3290 [==============================] - 18s 5ms/step - loss: 0.4032 - accuracy: 0.8562 - val_loss: 0.4982 - val_accuracy: 0.8432 - lr: 0.0010\n",
      "Epoch 10/20\n",
      "3281/3290 [============================>.] - ETA: 0s - loss: 0.3185 - accuracy: 0.8820\n",
      "Epoch 10: val_loss improved from 0.48347 to 0.46383, saving model to ./saved\\nn_model.h5\n",
      "3290/3290 [==============================] - 16s 5ms/step - loss: 0.3185 - accuracy: 0.8820 - val_loss: 0.4638 - val_accuracy: 0.8523 - lr: 2.0000e-04\n",
      "Epoch 11/20\n",
      "3290/3290 [==============================] - ETA: 0s - loss: 0.2986 - accuracy: 0.8881\n",
      "Epoch 11: val_loss did not improve from 0.46383\n",
      "3290/3290 [==============================] - 15s 5ms/step - loss: 0.2986 - accuracy: 0.8881 - val_loss: 0.4667 - val_accuracy: 0.8542 - lr: 2.0000e-04\n",
      "Epoch 12/20\n",
      "3282/3290 [============================>.] - ETA: 0s - loss: 0.2879 - accuracy: 0.8919\n",
      "Epoch 12: val_loss did not improve from 0.46383\n",
      "3290/3290 [==============================] - 16s 5ms/step - loss: 0.2880 - accuracy: 0.8918 - val_loss: 0.4667 - val_accuracy: 0.8545 - lr: 2.0000e-04\n",
      "Epoch 13/20\n",
      "3283/3290 [============================>.] - ETA: 0s - loss: 0.2797 - accuracy: 0.8938\n",
      "Epoch 13: val_loss did not improve from 0.46383\n",
      "3290/3290 [==============================] - 18s 6ms/step - loss: 0.2797 - accuracy: 0.8937 - val_loss: 0.4712 - val_accuracy: 0.8534 - lr: 2.0000e-04\n",
      "Epoch 14/20\n",
      "3289/3290 [============================>.] - ETA: 0s - loss: 0.2635 - accuracy: 0.9001\n",
      "Epoch 14: val_loss did not improve from 0.46383\n",
      "3290/3290 [==============================] - 15s 5ms/step - loss: 0.2635 - accuracy: 0.9001 - val_loss: 0.4718 - val_accuracy: 0.8548 - lr: 1.0000e-04\n",
      "Epoch 15/20\n",
      "3278/3290 [============================>.] - ETA: 0s - loss: 0.2594 - accuracy: 0.9005\n",
      "Epoch 15: val_loss did not improve from 0.46383\n",
      "3290/3290 [==============================] - 15s 5ms/step - loss: 0.2593 - accuracy: 0.9005 - val_loss: 0.4758 - val_accuracy: 0.8552 - lr: 1.0000e-04\n",
      "Epoch 15: early stopping\n"
     ]
    }
   ],
   "source": [
    "# Model Fitting\n",
    "history = model.fit(X_train,  # Training data features\n",
    "                    y_train,  # Training data labels\n",
    "                    epochs=20,  # Number of epochs for training the model\n",
    "                    batch_size=32,  # Number of samples per gradient update\n",
    "                    verbose=1,  # Verbosity mode. 0 = silent, 1 = progress bar, 2 = one line per epoch\n",
    "                    validation_data=(X_test, y_test),  # Validation data for evaluating the model\n",
    "                    callbacks=[mcp_save, early_stopping, RLP])  # Callbacks for additional functionality during training"
   ]
  },
  {
   "cell_type": "code",
   "execution_count": 27,
   "id": "9ead077d",
   "metadata": {},
   "outputs": [],
   "source": [
    "def plotgraph(epochs, acc, val_acc):\n",
    "    # Plot training & validation accuracy values\n",
    "    plt.plot(epochs, acc, 'b')\n",
    "    plt.plot(epochs, val_acc, 'r')\n",
    "    plt.title('Model accuracy')\n",
    "    plt.ylabel('Accuracy')\n",
    "    plt.xlabel('Epoch')\n",
    "    plt.legend(['Train', 'Val'], loc='upper left')\n",
    "    plt.show()\n",
    "    \n",
    "acc = history.history['accuracy']\n",
    "val_acc = history.history['val_accuracy']\n",
    "loss = history.history['loss']\n",
    "val_loss = history.history['val_loss']\n",
    "epochs = range(1,len(acc)+1)"
   ]
  },
  {
   "cell_type": "code",
   "execution_count": 28,
   "id": "11f0fdaa",
   "metadata": {},
   "outputs": [
    {
     "data": {
      "image/png": "[encoded data removed]",
      "text/plain": [
       "<Figure size 640x480 with 1 Axes>"
      ]
     },
     "metadata": {},
     "output_type": "display_data"
    }
   ],
   "source": [
    "# Accuracy curve\n",
    "plotgraph(epochs, acc, val_acc)"
   ]
  },
  {
   "cell_type": "code",
   "execution_count": 29,
   "id": "8b18b19d",
   "metadata": {},
   "outputs": [
    {
     "name": "stdout",
     "output_type": "stream",
     "text": [
      "Loss Curve\n"
     ]
    },
    {
     "data": {
      "image/png": "[encoded data removed]",
      "text/plain": [
       "<Figure size 640x480 with 1 Axes>"
      ]
     },
     "metadata": {},
     "output_type": "display_data"
    }
   ],
   "source": [
    "# loss curve\n",
    "print('Loss Curve')\n",
    "plotgraph(epochs, loss, val_loss)"
   ]
  },
  {
   "cell_type": "markdown",
   "id": "d4019308",
   "metadata": {},
   "source": [
    "### Segmentation and Testing"
   ]
  },
  {
   "cell_type": "code",
   "execution_count": null,
   "id": "31780181",
   "metadata": {},
   "outputs": [],
   "source": []
  },
  {
   "cell_type": "code",
   "execution_count": null,
   "id": "7663ae58",
   "metadata": {},
   "outputs": [],
   "source": []
  },
  {
   "cell_type": "code",
   "execution_count": null,
   "id": "47e65705",
   "metadata": {},
   "outputs": [],
   "source": []
  }
 ],
 "metadata": {
  "kernelspec": {
   "display_name": "Python 3 (ipykernel)",
   "language": "python",
   "name": "python3"
  },
  "language_info": {
   "codemirror_mode": {
    "name": "ipython",
    "version": 3
   },
   "file_extension": ".py",
   "mimetype": "text/x-python",
   "name": "python",
   "nbconvert_exporter": "python",
   "pygments_lexer": "ipython3",
   "version": "3.11.5"
  }
 },
 "nbformat": 4,
 "nbformat_minor": 5
}
